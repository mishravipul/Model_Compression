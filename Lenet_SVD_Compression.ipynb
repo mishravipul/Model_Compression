{
  "nbformat": 4,
  "nbformat_minor": 0,
  "metadata": {
    "colab": {
      "name": "Lenet_SVD_Compression.ipynb",
      "version": "0.3.2",
      "provenance": [],
      "collapsed_sections": []
    },
    "language_info": {
      "codemirror_mode": {
        "name": "ipython",
        "version": 3
      },
      "file_extension": ".py",
      "mimetype": "text/x-python",
      "name": "python",
      "nbconvert_exporter": "python",
      "pygments_lexer": "ipython3",
      "version": "3.6.1"
    },
    "kernelspec": {
      "display_name": "Python 3",
      "language": "python",
      "name": "python3"
    }
  },
  "cells": [
    {
      "cell_type": "code",
      "metadata": {
        "id": "trw5z7TpUDmm",
        "colab_type": "code",
        "outputId": "64c28265-16a6-4d75-d074-97836ffe57ae",
        "colab": {
          "base_uri": "https://localhost:8080/",
          "height": 34
        }
      },
      "source": [
        "from keras import backend\n",
        "from keras import datasets\n",
        "import keras\n",
        "import numpy as np\n",
        "from keras import models, layers\n",
        "from keras.models import Model,Sequential, model_from_json\n",
        "from keras.layers import Dense, Conv2D, AveragePooling2D, Flatten\n",
        "from keras.datasets import mnist\n",
        "from keras.utils import np_utils"
      ],
      "execution_count": 0,
      "outputs": [
        {
          "output_type": "stream",
          "text": [
            "Using TensorFlow backend.\n"
          ],
          "name": "stderr"
        }
      ]
    },
    {
      "cell_type": "code",
      "metadata": {
        "id": "3wkmxigvUDms",
        "colab_type": "code",
        "outputId": "ed82c28a-b5b2-4fab-c300-dcc518811685",
        "colab": {
          "base_uri": "https://localhost:8080/",
          "height": 51
        }
      },
      "source": [
        "# Load dataset as train and test sets\n",
        "(x_train, y_train), (x_test, y_test) = mnist.load_data()\n",
        "\n",
        "img_rows, img_cols = x_train.shape[1:]\n",
        "\n",
        "if backend.image_data_format() == 'channels_first':\n",
        "    x_train = x_train.reshape(x_train.shape[0], 1, img_rows, img_cols)\n",
        "    x_test = x_test.reshape(x_test.shape[0], 1, img_rows, img_cols)\n",
        "    input_shape = (1, img_rows, img_cols)\n",
        "else:\n",
        "    x_train = x_train.reshape(x_train.shape[0], img_rows, img_cols, 1)\n",
        "    x_test = x_test.reshape(x_test.shape[0], img_rows, img_cols, 1)\n",
        "    input_shape = (img_rows, img_cols, 1)\n",
        "\n",
        "x_train = np.pad(x_train, ((0,0),(2,2),(2,2),(0,0)), 'constant')\n",
        "x_test = np.pad(x_test, ((0,0),(2,2),(2,2),(0,0)), 'constant')\n",
        "\n",
        "# Set numeric type to float32 from uint8\n",
        "x_train = x_train.astype('float32')\n",
        "x_test = x_test.astype('float32')\n",
        "\n",
        "# Normalize value to [0, 1]\n",
        "x_train /= 255\n",
        "x_test /= 255\n",
        "\n",
        "# Transform lables to one-hot encoding\n",
        "y_train = np_utils.to_categorical(y_train, 10)\n",
        "y_test = np_utils.to_categorical(y_test, 10)\n",
        "\n",
        "# Reshape the dataset into 4D array\n",
        "x_train = x_train.reshape(x_train.shape[0], 32,32,1)\n",
        "x_test = x_test.reshape(x_test.shape[0], 32,32,1) "
      ],
      "execution_count": 0,
      "outputs": [
        {
          "output_type": "stream",
          "text": [
            "Downloading data from https://s3.amazonaws.com/img-datasets/mnist.npz\n",
            "11493376/11490434 [==============================] - 1s 0us/step\n"
          ],
          "name": "stdout"
        }
      ]
    },
    {
      "cell_type": "code",
      "metadata": {
        "id": "JrIQG8Gzh_OU",
        "colab_type": "code",
        "colab": {}
      },
      "source": [
        ""
      ],
      "execution_count": 0,
      "outputs": []
    },
    {
      "cell_type": "code",
      "metadata": {
        "id": "E3T4A4O5VmCs",
        "colab_type": "code",
        "outputId": "8f967485-fed0-47bc-b380-2344197b1042",
        "colab": {
          "base_uri": "https://localhost:8080/",
          "height": 459
        }
      },
      "source": [
        "#Instantiate an empty model\n",
        "model = Sequential()\n",
        "\n",
        "# C1 Convolutional Layer\n",
        "model.add(layers.Conv2D(6, kernel_size=(5, 5), strides=(1, 1), activation='tanh', input_shape=(32,32,1)))\n",
        "\n",
        "# S2 Pooling Layer\n",
        "model.add(layers.AveragePooling2D(pool_size=(2, 2), strides=(2, 2), padding='valid'))\n",
        "\n",
        "# C3 Convolutional Layer\n",
        "model.add(layers.Conv2D(16, kernel_size=(5, 5), strides=(1, 1), activation='tanh', padding='valid'))\n",
        "\n",
        "# S4 Pooling Layer\n",
        "model.add(layers.AveragePooling2D(pool_size=(2, 2), strides=(2, 2), padding='valid'))\n",
        "\n",
        "#Flatten the CNN output so that we can connect it with fully connected layers\n",
        "model.add(layers.Flatten())\n",
        "\n",
        "# C5 Fully Connected Convolutional Layer\n",
        "model.add(layers.Dense(120, activation='tanh'))\n",
        "\n",
        "# FC6 Fully Connected Layer\n",
        "model.add(layers.Dense(84, activation='tanh'))\n",
        "\n",
        "#Output Layer with softmax activation\n",
        "model.add(layers.Dense(10, activation='softmax'))\n",
        "\n",
        "# Compile the model\n",
        "model.compile(loss=keras.losses.categorical_crossentropy, optimizer='Adam', metrics=[\"accuracy\"]) \n",
        "model.summary()"
      ],
      "execution_count": 0,
      "outputs": [
        {
          "output_type": "stream",
          "text": [
            "WARNING:tensorflow:From /usr/local/lib/python3.6/dist-packages/tensorflow/python/framework/op_def_library.py:263: colocate_with (from tensorflow.python.framework.ops) is deprecated and will be removed in a future version.\n",
            "Instructions for updating:\n",
            "Colocations handled automatically by placer.\n",
            "_________________________________________________________________\n",
            "Layer (type)                 Output Shape              Param #   \n",
            "=================================================================\n",
            "conv2d_1 (Conv2D)            (None, 28, 28, 6)         156       \n",
            "_________________________________________________________________\n",
            "average_pooling2d_1 (Average (None, 14, 14, 6)         0         \n",
            "_________________________________________________________________\n",
            "conv2d_2 (Conv2D)            (None, 10, 10, 16)        2416      \n",
            "_________________________________________________________________\n",
            "average_pooling2d_2 (Average (None, 5, 5, 16)          0         \n",
            "_________________________________________________________________\n",
            "flatten_1 (Flatten)          (None, 400)               0         \n",
            "_________________________________________________________________\n",
            "dense_1 (Dense)              (None, 120)               48120     \n",
            "_________________________________________________________________\n",
            "dense_2 (Dense)              (None, 84)                10164     \n",
            "_________________________________________________________________\n",
            "dense_3 (Dense)              (None, 10)                850       \n",
            "=================================================================\n",
            "Total params: 61,706\n",
            "Trainable params: 61,706\n",
            "Non-trainable params: 0\n",
            "_________________________________________________________________\n"
          ],
          "name": "stdout"
        }
      ]
    },
    {
      "cell_type": "code",
      "metadata": {
        "id": "okx_4hXWVqol",
        "colab_type": "code",
        "outputId": "c9c38a63-d8a3-4691-a201-91482aec0c3f",
        "colab": {
          "base_uri": "https://localhost:8080/",
          "height": 459
        }
      },
      "source": [
        "hist = model.fit(x=x_train,y=y_train, epochs=10, batch_size=128, validation_data=(x_test, y_test), verbose=1) \n",
        "# Write the testing input and output variables\n",
        "score = model.evaluate(x_test, y_test, verbose=0)\n",
        "print('Test loss:', score[0])\n",
        "print('Test accuracy:', score[1])"
      ],
      "execution_count": 0,
      "outputs": [
        {
          "output_type": "stream",
          "text": [
            "WARNING:tensorflow:From /usr/local/lib/python3.6/dist-packages/tensorflow/python/ops/math_ops.py:3066: to_int32 (from tensorflow.python.ops.math_ops) is deprecated and will be removed in a future version.\n",
            "Instructions for updating:\n",
            "Use tf.cast instead.\n",
            "Train on 60000 samples, validate on 10000 samples\n",
            "Epoch 1/10\n",
            "60000/60000 [==============================] - 45s 756us/step - loss: 0.3301 - acc: 0.9030 - val_loss: 0.1496 - val_acc: 0.9541\n",
            "Epoch 2/10\n",
            "60000/60000 [==============================] - 45s 747us/step - loss: 0.1168 - acc: 0.9646 - val_loss: 0.0907 - val_acc: 0.9697\n",
            "Epoch 3/10\n",
            "60000/60000 [==============================] - 45s 753us/step - loss: 0.0776 - acc: 0.9764 - val_loss: 0.0697 - val_acc: 0.9784\n",
            "Epoch 4/10\n",
            "60000/60000 [==============================] - 45s 753us/step - loss: 0.0578 - acc: 0.9821 - val_loss: 0.0619 - val_acc: 0.9800\n",
            "Epoch 5/10\n",
            "60000/60000 [==============================] - 45s 744us/step - loss: 0.0465 - acc: 0.9853 - val_loss: 0.0578 - val_acc: 0.9817\n",
            "Epoch 6/10\n",
            "60000/60000 [==============================] - 45s 752us/step - loss: 0.0388 - acc: 0.9876 - val_loss: 0.0551 - val_acc: 0.9815\n",
            "Epoch 7/10\n",
            "60000/60000 [==============================] - 45s 756us/step - loss: 0.0322 - acc: 0.9898 - val_loss: 0.0442 - val_acc: 0.9853\n",
            "Epoch 8/10\n",
            "60000/60000 [==============================] - 45s 753us/step - loss: 0.0277 - acc: 0.9913 - val_loss: 0.0470 - val_acc: 0.9837\n",
            "Epoch 9/10\n",
            "60000/60000 [==============================] - 45s 753us/step - loss: 0.0221 - acc: 0.9929 - val_loss: 0.0480 - val_acc: 0.9853\n",
            "Epoch 10/10\n",
            "60000/60000 [==============================] - 45s 757us/step - loss: 0.0181 - acc: 0.9941 - val_loss: 0.0508 - val_acc: 0.9843\n",
            "Test loss: 0.05082243042171467\n",
            "Test accuracy: 0.9843\n"
          ],
          "name": "stdout"
        }
      ]
    },
    {
      "cell_type": "code",
      "metadata": {
        "id": "9vw_ngPMVr-N",
        "colab_type": "code",
        "outputId": "ce89727e-d2b2-4c81-b34c-2da59781b5c3",
        "colab": {
          "base_uri": "https://localhost:8080/",
          "height": 34
        }
      },
      "source": [
        "# serialize model to JSON\n",
        "model_json = model.to_json()\n",
        "\n",
        "# Write the file name of the model\n",
        "\n",
        "with open(\"Lenet.json\", \"w\") as json_file:\n",
        "    json_file.write(model_json)\n",
        "    \n",
        "# serialize weights to HDF5\n",
        "# Write the file name of the weights\n",
        "\n",
        "model.save_weights(\"Lenet.h5\")\n",
        "print(\"Saved model to disk\")"
      ],
      "execution_count": 0,
      "outputs": [
        {
          "output_type": "stream",
          "text": [
            "Saved model to disk\n"
          ],
          "name": "stdout"
        }
      ]
    },
    {
      "cell_type": "code",
      "metadata": {
        "id": "3nLiMsXpUDmv",
        "colab_type": "code",
        "outputId": "24551ba8-bb74-438f-faac-5fe4e0a0d7ef",
        "colab": {
          "base_uri": "https://localhost:8080/",
          "height": 34
        }
      },
      "source": [
        "json_file = open('Lenet.json', 'r')\n",
        "lenet_model_json = json_file.read()\n",
        "json_file.close()\n",
        "lenet_model = model_from_json(lenet_model_json)\n",
        "lenet_model.load_weights(\"Lenet.h5\")\n",
        "lenet_model.compile(loss='categorical_crossentropy',optimizer='SGD',metrics=['accuracy'])\n",
        "print(\"lenet model from disk\")"
      ],
      "execution_count": 0,
      "outputs": [
        {
          "output_type": "stream",
          "text": [
            "lenet model from disk\n"
          ],
          "name": "stdout"
        }
      ]
    },
    {
      "cell_type": "code",
      "metadata": {
        "id": "JlS21t5rUDmz",
        "colab_type": "code",
        "outputId": "77a6cca3-e0b6-48f4-f582-20667e87503e",
        "colab": {
          "base_uri": "https://localhost:8080/",
          "height": 51
        }
      },
      "source": [
        "# Write the testing input and output variables\n",
        "score = lenet_model.evaluate(x_test, y_test, verbose=0)\n",
        "print('Test loss:', score[0])\n",
        "print('Test accuracy:', score[1])"
      ],
      "execution_count": 0,
      "outputs": [
        {
          "output_type": "stream",
          "text": [
            "Test loss: 0.05082243042171467\n",
            "Test accuracy: 0.9843\n"
          ],
          "name": "stdout"
        }
      ]
    },
    {
      "cell_type": "code",
      "metadata": {
        "id": "8jWr2ophUDm2",
        "colab_type": "code",
        "outputId": "877288db-34f5-4267-9329-f8e48dbb3671",
        "colab": {
          "base_uri": "https://localhost:8080/",
          "height": 102
        }
      },
      "source": [
        "lenet_model.load_weights(\"Lenet.h5\")\n",
        "lenet_model.compile(loss='categorical_crossentropy',optimizer='SGD',metrics=['accuracy'])\n",
        "weights = lenet_model.layers[6].get_weights()\n",
        "for i in range(0,8):\n",
        "    if len(lenet_model.layers[i].get_weights())!=0:\n",
        "        print(\"Layer Number:\",i,\"Layer Shape: \",lenet_model.layers[i].get_weights()[0].shape)"
      ],
      "execution_count": 0,
      "outputs": [
        {
          "output_type": "stream",
          "text": [
            "Layer Number: 0 Layer Shape:  (5, 5, 1, 6)\n",
            "Layer Number: 2 Layer Shape:  (5, 5, 6, 16)\n",
            "Layer Number: 5 Layer Shape:  (400, 120)\n",
            "Layer Number: 6 Layer Shape:  (120, 84)\n",
            "Layer Number: 7 Layer Shape:  (84, 10)\n"
          ],
          "name": "stdout"
        }
      ]
    },
    {
      "cell_type": "code",
      "metadata": {
        "id": "6YIqKMVTqw39",
        "colab_type": "code",
        "outputId": "84fa2bb8-5a94-471d-ab45-478c709fda57",
        "colab": {
          "base_uri": "https://localhost:8080/",
          "height": 139
        }
      },
      "source": [
        "print(lenet_model.layers)\n",
        "for i in range(len(lenet_model.layers)):\n",
        " if len(lenet_model.layers[i].get_weights())!=0:\n",
        "        print(\"Layer Number:\",i,\"Layer Shape: \",lenet_model.layers[i].get_weights()[0].shape)"
      ],
      "execution_count": 0,
      "outputs": [
        {
          "output_type": "stream",
          "text": [
            "[<keras.layers.convolutional.Conv2D object at 0x7f3d52700eb8>, <keras.layers.pooling.AveragePooling2D object at 0x7f3d5269c080>, <keras.layers.convolutional.Conv2D object at 0x7f3d5269cf60>, <keras.layers.pooling.AveragePooling2D object at 0x7f3d526bd588>, <keras.layers.core.Flatten object at 0x7f3d52700160>, <keras.layers.core.Dense object at 0x7f3d51e550f0>, <keras.layers.core.Dense object at 0x7f3d51e693c8>, <keras.layers.core.Dense object at 0x7f3d51e0a5f8>]\n",
            "Layer Number: 0 Layer Shape:  (5, 5, 1, 6)\n",
            "Layer Number: 2 Layer Shape:  (5, 5, 6, 16)\n",
            "Layer Number: 5 Layer Shape:  (400, 120)\n",
            "Layer Number: 6 Layer Shape:  (120, 84)\n",
            "Layer Number: 7 Layer Shape:  (84, 10)\n"
          ],
          "name": "stdout"
        }
      ]
    },
    {
      "cell_type": "markdown",
      "metadata": {
        "id": "Ku_Hg85cUDm8",
        "colab_type": "text"
      },
      "source": [
        "### SVD Compression"
      ]
    },
    {
      "cell_type": "code",
      "metadata": {
        "id": "sPiQny-SUDm9",
        "colab_type": "code",
        "outputId": "3b3fc77c-5ee4-4e29-8610-54e1e75d9362",
        "colab": {
          "base_uri": "https://localhost:8080/",
          "height": 68
        }
      },
      "source": [
        "# Loading Model\n",
        "lenet_model.load_weights(\"Lenet.h5\")\n",
        "lenet_model.compile(loss='categorical_crossentropy',optimizer='Adam',metrics=['accuracy'])\n",
        "\n",
        "# Loading weights of the model\n",
        "keep_list=[0, 0, 14, 15, 10]\n",
        "keep = keep_list[2]\n",
        "fc1 = lenet_model.layers[5].get_weights()\n",
        "\n",
        "# Decomposition and Reconstruction\n",
        "U, S, V = np.linalg.svd(fc1[0], full_matrices=False)\n",
        "tU, tS, tV = U[:, 0:keep], S[0:keep], V[0:keep, :]\n",
        "fc1_t = np.matmul(np.matmul(tU, np.diag(tS)), tV)\n",
        "print(\"Reconstruction Error: \",np.mean(abs(fc1[0]-fc1_t)))\n",
        "print(\"Number of Elements: \",tU.size+tS.size+tV.size)\n",
        "\n",
        "# Loading weights for new model\n",
        "fc1[0] = fc1_t\n",
        "lenet_model.layers[5].set_weights(fc1)\n",
        "\n",
        "# Write the testing input and output variables\n",
        "score = lenet_model.evaluate(x_test, y_test, verbose=0)\n",
        "truncsvd_accuracy = score[1]\n",
        "print('Test accuracy:', truncsvd_accuracy)"
      ],
      "execution_count": 0,
      "outputs": [
        {
          "output_type": "stream",
          "text": [
            "Reconstruction Error:  0.057772562\n",
            "Number of Elements:  7294\n",
            "Test accuracy: 0.9414\n"
          ],
          "name": "stdout"
        }
      ]
    },
    {
      "cell_type": "code",
      "metadata": {
        "id": "PoH_ieYsUDm5",
        "colab_type": "code",
        "outputId": "3976f4d5-5f95-4595-cb6c-ccda4ddec052",
        "colab": {
          "base_uri": "https://localhost:8080/",
          "height": 51
        }
      },
      "source": [
        "print(U.shape,'',S.shape,'',V.shape)\n",
        "print(tU.shape,'',tS.shape,'',tV.shape)"
      ],
      "execution_count": 0,
      "outputs": [
        {
          "output_type": "stream",
          "text": [
            "(400, 120)  (120,)  (120, 120)\n",
            "(400, 14)  (14,)  (14, 120)\n"
          ],
          "name": "stdout"
        }
      ]
    },
    {
      "cell_type": "code",
      "metadata": {
        "id": "gdsksTjbVGpG",
        "colab_type": "code",
        "colab": {}
      },
      "source": [
        ""
      ],
      "execution_count": 0,
      "outputs": []
    }
  ]
}